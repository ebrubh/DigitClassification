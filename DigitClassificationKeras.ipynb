{
 "cells": [
  {
   "cell_type": "code",
   "execution_count": 4,
   "id": "55d749ad",
   "metadata": {},
   "outputs": [],
   "source": [
    "import pandas as pd\n",
    "import numpy as np\n",
    "import matplotlib.pyplot as plt\n",
    "import seaborn as sns\n",
    "\n",
    "df = pd.read_csv('train.csv')"
   ]
  },
  {
   "cell_type": "code",
   "execution_count": 5,
   "id": "060cf84e",
   "metadata": {},
   "outputs": [],
   "source": [
    "X = df.drop('label', axis = 1).values\n",
    "y = df['label'].values\n",
    "\n",
    "from sklearn.model_selection import train_test_split\n",
    "X_train, X_test, y_train, y_test = train_test_split(X, y, test_size=0.3, random_state=101)"
   ]
  },
  {
   "cell_type": "code",
   "execution_count": 6,
   "id": "8d12a0ab",
   "metadata": {},
   "outputs": [],
   "source": [
    "from sklearn.preprocessing import MinMaxScaler\n",
    "scaler = MinMaxScaler()\n",
    "X_train = scaler.fit_transform(X_train)\n",
    "X_test = scaler.transform(X_test)"
   ]
  },
  {
   "cell_type": "code",
   "execution_count": 83,
   "id": "4e102e6e",
   "metadata": {},
   "outputs": [],
   "source": [
    "from tensorflow.keras.models import Sequential\n",
    "from tensorflow.keras.layers import Dense, Dropout\n",
    "from tensorflow.keras.callbacks import EarlyStopping\n",
    "\n",
    "model = Sequential()\n",
    "earlyS = EarlyStopping(monitor='val_loss', mode = 'min', verbose=1, patience = 25)\n",
    "\n",
    "model.add(Dense(784, activation = 'tanh'))\n",
    "model.add(Dense(350, activation = 'relu'))\n",
    "model.add(Dense(100, activation = 'relu'))\n",
    "model.add(Dense(1))\n",
    "\n",
    "model.compile(optimizer = 'adam', loss = 'mse')"
   ]
  },
  {
   "cell_type": "code",
   "execution_count": null,
   "id": "8b22cc1d",
   "metadata": {},
   "outputs": [
    {
     "name": "stdout",
     "output_type": "stream",
     "text": [
      "Epoch 1/400\n",
      "230/230 [==============================] - 4s 16ms/step - loss: 2.2151 - val_loss: 1.0878\n",
      "Epoch 2/400\n",
      "230/230 [==============================] - 4s 18ms/step - loss: 0.9559 - val_loss: 0.8799\n",
      "Epoch 3/400\n",
      "230/230 [==============================] - 4s 15ms/step - loss: 0.6957 - val_loss: 0.7290\n",
      "Epoch 4/400\n",
      "230/230 [==============================] - 4s 15ms/step - loss: 0.5571 - val_loss: 0.6289\n",
      "Epoch 5/400\n",
      "230/230 [==============================] - 3s 15ms/step - loss: 0.4383 - val_loss: 0.5503\n",
      "Epoch 6/400\n",
      "230/230 [==============================] - 3s 15ms/step - loss: 0.3637 - val_loss: 0.6035\n",
      "Epoch 7/400\n",
      "230/230 [==============================] - 4s 16ms/step - loss: 0.3081 - val_loss: 0.4996\n",
      "Epoch 8/400\n",
      "230/230 [==============================] - 4s 18ms/step - loss: 0.2476 - val_loss: 0.5365\n",
      "Epoch 9/400\n",
      "230/230 [==============================] - 4s 16ms/step - loss: 0.2105 - val_loss: 0.5452\n",
      "Epoch 10/400\n",
      "230/230 [==============================] - 3s 15ms/step - loss: 0.1882 - val_loss: 0.4900\n",
      "Epoch 11/400\n",
      "230/230 [==============================] - 3s 14ms/step - loss: 0.1628 - val_loss: 0.4000\n",
      "Epoch 12/400\n",
      "230/230 [==============================] - 3s 15ms/step - loss: 0.1281 - val_loss: 0.4003\n",
      "Epoch 13/400\n",
      "230/230 [==============================] - 4s 16ms/step - loss: 0.1021 - val_loss: 0.3661\n",
      "Epoch 14/400\n",
      "230/230 [==============================] - 3s 14ms/step - loss: 0.0828 - val_loss: 0.3725\n",
      "Epoch 15/400\n",
      "230/230 [==============================] - 3s 15ms/step - loss: 0.1099 - val_loss: 0.3918\n",
      "Epoch 16/400\n",
      "230/230 [==============================] - 4s 16ms/step - loss: 0.1109 - val_loss: 0.4027\n",
      "Epoch 17/400\n",
      "230/230 [==============================] - 4s 18ms/step - loss: 0.1555 - val_loss: 0.4480\n",
      "Epoch 18/400\n",
      "230/230 [==============================] - 3s 15ms/step - loss: 0.1318 - val_loss: 0.3868\n",
      "Epoch 19/400\n",
      "230/230 [==============================] - 3s 14ms/step - loss: 0.0675 - val_loss: 0.3545\n",
      "Epoch 20/400\n",
      "230/230 [==============================] - 3s 14ms/step - loss: 0.0470 - val_loss: 0.3314\n",
      "Epoch 21/400\n",
      "230/230 [==============================] - 3s 15ms/step - loss: 0.0426 - val_loss: 0.3603\n",
      "Epoch 22/400\n",
      "230/230 [==============================] - 4s 16ms/step - loss: 0.0358 - val_loss: 0.3328\n",
      "Epoch 23/400\n",
      "230/230 [==============================] - 4s 15ms/step - loss: 0.0248 - val_loss: 0.3091\n",
      "Epoch 24/400\n",
      "230/230 [==============================] - 3s 14ms/step - loss: 0.0226 - val_loss: 0.3263\n",
      "Epoch 25/400\n",
      "230/230 [==============================] - 3s 15ms/step - loss: 0.2389 - val_loss: 0.4938\n",
      "Epoch 26/400\n",
      "230/230 [==============================] - 4s 16ms/step - loss: 0.1752 - val_loss: 0.3950\n",
      "Epoch 27/400\n",
      "230/230 [==============================] - 4s 15ms/step - loss: 0.0858 - val_loss: 0.3951\n",
      "Epoch 28/400\n",
      "230/230 [==============================] - 4s 17ms/step - loss: 0.0589 - val_loss: 0.3380\n",
      "Epoch 29/400\n",
      "230/230 [==============================] - 3s 14ms/step - loss: 0.0316 - val_loss: 0.3132\n",
      "Epoch 30/400\n",
      "230/230 [==============================] - 4s 19ms/step - loss: 0.0177 - val_loss: 0.3043\n",
      "Epoch 31/400\n",
      "230/230 [==============================] - 4s 16ms/step - loss: 0.0127 - val_loss: 0.2915\n",
      "Epoch 32/400\n",
      "230/230 [==============================] - 4s 15ms/step - loss: 0.0103 - val_loss: 0.3014\n",
      "Epoch 33/400\n",
      "230/230 [==============================] - 3s 15ms/step - loss: 0.0106 - val_loss: 0.2984\n",
      "Epoch 34/400\n",
      "230/230 [==============================] - 3s 15ms/step - loss: 0.0094 - val_loss: 0.2966\n",
      "Epoch 35/400\n",
      "230/230 [==============================] - 3s 15ms/step - loss: 0.0123 - val_loss: 0.2978\n",
      "Epoch 36/400\n",
      "230/230 [==============================] - 4s 15ms/step - loss: 0.0158 - val_loss: 0.3223\n",
      "Epoch 37/400\n",
      "230/230 [==============================] - 3s 15ms/step - loss: 0.2623 - val_loss: 0.5160\n",
      "Epoch 38/400\n",
      "230/230 [==============================] - 3s 14ms/step - loss: 0.1921 - val_loss: 0.3691\n",
      "Epoch 39/400\n",
      "230/230 [==============================] - 4s 15ms/step - loss: 0.0594 - val_loss: 0.3338\n",
      "Epoch 40/400\n",
      "230/230 [==============================] - 3s 15ms/step - loss: 0.0352 - val_loss: 0.3193\n",
      "Epoch 41/400\n",
      "230/230 [==============================] - 3s 14ms/step - loss: 0.0161 - val_loss: 0.3256\n",
      "Epoch 42/400\n",
      "230/230 [==============================] - 3s 14ms/step - loss: 0.0121 - val_loss: 0.3077\n",
      "Epoch 43/400\n",
      "230/230 [==============================] - 4s 15ms/step - loss: 0.0083 - val_loss: 0.3021\n",
      "Epoch 44/400\n",
      "230/230 [==============================] - 3s 15ms/step - loss: 0.0068 - val_loss: 0.3003\n",
      "Epoch 45/400\n",
      "230/230 [==============================] - 3s 15ms/step - loss: 0.0069 - val_loss: 0.2995\n",
      "Epoch 46/400\n",
      "230/230 [==============================] - 3s 14ms/step - loss: 0.0105 - val_loss: 0.3252\n",
      "Epoch 47/400\n",
      "230/230 [==============================] - 3s 14ms/step - loss: 0.0997 - val_loss: 0.5778\n",
      "Epoch 48/400\n",
      "230/230 [==============================] - 4s 15ms/step - loss: 0.1397 - val_loss: 0.3879\n",
      "Epoch 49/400\n",
      "230/230 [==============================] - 4s 15ms/step - loss: 0.0404 - val_loss: 0.2909\n",
      "Epoch 50/400\n",
      "230/230 [==============================] - 4s 15ms/step - loss: 0.0156 - val_loss: 0.3078\n",
      "Epoch 51/400\n",
      "230/230 [==============================] - 4s 15ms/step - loss: 0.0106 - val_loss: 0.2886\n",
      "Epoch 52/400\n",
      "230/230 [==============================] - 4s 18ms/step - loss: 0.0081 - val_loss: 0.2911\n",
      "Epoch 53/400\n",
      "230/230 [==============================] - 5s 21ms/step - loss: 0.0070 - val_loss: 0.2838\n",
      "Epoch 54/400\n",
      "230/230 [==============================] - 4s 18ms/step - loss: 0.0073 - val_loss: 0.2924\n",
      "Epoch 55/400\n",
      "230/230 [==============================] - 4s 17ms/step - loss: 0.0082 - val_loss: 0.2926\n",
      "Epoch 56/400\n",
      "230/230 [==============================] - 4s 16ms/step - loss: 0.0079 - val_loss: 0.2874\n",
      "Epoch 57/400\n",
      "230/230 [==============================] - 4s 15ms/step - loss: 0.0068 - val_loss: 0.3017\n",
      "Epoch 58/400\n",
      "230/230 [==============================] - 3s 14ms/step - loss: 0.0139 - val_loss: 0.3377\n",
      "Epoch 59/400\n",
      "230/230 [==============================] - 3s 15ms/step - loss: 0.1524 - val_loss: 0.4722\n",
      "Epoch 60/400\n",
      "230/230 [==============================] - 3s 14ms/step - loss: 0.0829 - val_loss: 0.3697\n",
      "Epoch 61/400\n",
      "230/230 [==============================] - 4s 16ms/step - loss: 0.0440 - val_loss: 0.3068\n",
      "Epoch 62/400\n",
      "230/230 [==============================] - 3s 14ms/step - loss: 0.0251 - val_loss: 0.3149\n",
      "Epoch 63/400\n",
      "230/230 [==============================] - 3s 15ms/step - loss: 0.0114 - val_loss: 0.2983\n",
      "Epoch 64/400\n",
      "230/230 [==============================] - 3s 15ms/step - loss: 0.0068 - val_loss: 0.2986\n",
      "Epoch 65/400\n",
      " 91/230 [==========>...................] - ETA: 1s - loss: 0.0052"
     ]
    }
   ],
   "source": [
    "model.fit(x=X_train, y=y_train, validation_data = (X_test, y_test), batch_size = 128, epochs=400, callbacks=[earlyS])"
   ]
  },
  {
   "cell_type": "code",
   "execution_count": 81,
   "id": "1b9b3cbc",
   "metadata": {},
   "outputs": [
    {
     "data": {
      "text/plain": [
       "<AxesSubplot:>"
      ]
     },
     "execution_count": 81,
     "metadata": {},
     "output_type": "execute_result"
    },
    {
     "data": {
      "image/png": "[encoded data removed]",
      "text/plain": [
       "<Figure size 432x288 with 1 Axes>"
      ]
     },
     "metadata": {
      "needs_background": "light"
     },
     "output_type": "display_data"
    }
   ],
   "source": [
    "pd.DataFrame(model.history.history).plot()"
   ]
  },
  {
   "cell_type": "code",
   "execution_count": 82,
   "id": "79f08ce3",
   "metadata": {},
   "outputs": [
    {
     "name": "stdout",
     "output_type": "stream",
     "text": [
      "394/394 [==============================] - 1s 3ms/step\n",
      "0.5953593004237838\n",
      "0.2808456973914826\n",
      "0.957877559723419\n"
     ]
    }
   ],
   "source": [
    "from sklearn.metrics import mean_absolute_error, mean_squared_error, explained_variance_score\n",
    "prediction = model.predict(X_test)\n",
    "print(mean_squared_error(y_test, prediction)**0.5)\n",
    "print(mean_absolute_error(y_test, prediction))\n",
    "print(explained_variance_score(y_test, prediction))"
   ]
  },
  {
   "cell_type": "code",
   "execution_count": null,
   "id": "ee71740a",
   "metadata": {},
   "outputs": [],
   "source": []
  }
 ],
 "metadata": {
  "kernelspec": {
   "display_name": "Python 3 (ipykernel)",
   "language": "python",
   "name": "python3"
  },
  "language_info": {
   "codemirror_mode": {
    "name": "ipython",
    "version": 3
   },
   "file_extension": ".py",
   "mimetype": "text/x-python",
   "name": "python",
   "nbconvert_exporter": "python",
   "pygments_lexer": "ipython3",
   "version": "3.9.7"
  }
 },
 "nbformat": 4,
 "nbformat_minor": 5
}
